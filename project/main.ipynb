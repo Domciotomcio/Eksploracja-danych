{
 "cells": [
  {
   "cell_type": "markdown",
   "metadata": {},
   "source": [
    "# Eksploracja Danych - Projekt"
   ]
  },
  {
   "cell_type": "markdown",
   "metadata": {},
   "source": [
    "## Spis treści\n",
    "\n",
    "1. [Zadanie - *logi ze sklepu internetowego*](#zadanie---logi-ze-sklepu-internetowego)\n",
    "   1. Wstęp\n",
    "   2. Opis danych\n",
    "   3. Uzupełnienie danych\n",
    "   \n",
    "2. [Eksploracyjna analiza danych](#2-eksploracyjna-analiza-danych)\n",
    "   1. Wstęp\n",
    "   2. Wykorzystane technologie\n",
    "   \n",
    "3. [Metodologia CRISP-DM](crisp-dm.ipynb)\n",
    "   1. Zrozumienie biznesu\n",
    "   2. Zrozumienie danych\n",
    "   3. Przygotowanie danych\n",
    "\n",
    "4. [Implementacja](functions.ipynb)\n",
    "   1. Trenowanie modelu\n",
    "   2. Ocena modelu\n",
    "   3. Wykresy\n",
    "   \n",
    "5.  [Prezentacja wyników](presentation.ipynb)\n",
    "    1.  Wizualizacja\n",
    "    2.  Analiza\n",
    "   \n",
    "6.  [Podsumowanie](summary.ipynb)\n",
    "    1.  Źródła\n",
    "    2.  Wykorzystane biblioteki\n",
    "    3.  Autorzy"
   ]
  },
  {
   "cell_type": "markdown",
   "metadata": {},
   "source": [
    "## 1. Zadanie - *logi ze sklepu internetowego*\n",
    "\n",
    "1. Wstęp\n",
    "\n",
    "Zapoznano się z atrybutami danych sklepu internetowego. Sprawdzono, jakie informacje się tam znajdują, oraz jakie są brakujące dane i braki integralności między nimi.\n",
    "\n",
    "2. Opis danych\n",
    "\n",
    "Opis danych i ich atrybutów znajduje się w pliku zamieszczonym w materiałach do projektu.\n",
    "\n",
    "3. Uzupełnienie danych\n",
    "\n",
    "- Dane zostały uzupełnione o brakujące wartości, w zależności od wybranego atrybutu.\n",
    "- Naprawiono niezgodności, jak zakup niedostępnego produktu.\n",
    "- Założono błąd zapisu danych przy statusie offline.\n",
    "- Założono realizację zamówienia, jeżeli ostatnim etapem było zamówienie.\n",
    "- Przyjęto sumę, min i max ceny wartości produktów, jeżeli koszyk, lub zbiór produktów był pusty.\n",
    "\n",
    "Wszelkie operacje na danych zostały zapisane w pliku [shop.ipynb](shop.ipynb).\n",
    "Wyniki zapisano w pliku [result.xlsx](../shopLog/result.xlsx)."
   ]
  },
  {
   "cell_type": "markdown",
   "metadata": {},
   "source": [
    "## 2. Eksploracyjna analiza danych\n",
    "\n",
    "### 2.1 Wstęp\n",
    "\n",
    "Projekt dotyczy zbioru danych [**cellularLTEMeasurementsHighwayA60**](https://github.com/florianjomrich/cellularLTEMeasurementsHighwayA60/tree/master/Campaign3). Należy:\n",
    "- przeprowadzić analizę danych\n",
    "- zaproponować odpowiednie modele predykcji\n",
    "- wykonać prognozy parametrów dla pakietów przesyłanych i pobieranych\n",
    "- zaprezentować i porównać wyniki\n",
    "- przedstawić wnioski\n",
    "\n",
    "### 2.2 Wykorzystane technologie\n",
    "\n",
    "W projekcie wykorzystano następujące technologie:\n",
    "- **Excel** - użyty do zadania 1, przeglądu logów sklepu i czyszczenia danych\n",
    "- **Python** - użyty do analizy danych, modelowania, wizualizacji i prezentacji wyników\n",
    "- **Jupyter Notebook** - użyty do tworzenia raportu, prezentacji wyników i wniosków\n"
   ]
  }
 ],
 "metadata": {
  "language_info": {
   "name": "python"
  }
 },
 "nbformat": 4,
 "nbformat_minor": 2
}
